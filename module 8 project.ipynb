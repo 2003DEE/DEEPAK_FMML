{
  "nbformat": 4,
  "nbformat_minor": 0,
  "metadata": {
    "colab": {
      "provenance": [],
      "authorship_tag": "ABX9TyO2uqgVOhGIeTZE4hs+yJUk",
      "include_colab_link": true
    },
    "kernelspec": {
      "name": "python3",
      "display_name": "Python 3"
    },
    "language_info": {
      "name": "python"
    }
  },
  "cells": [
    {
      "cell_type": "markdown",
      "metadata": {
        "id": "view-in-github",
        "colab_type": "text"
      },
      "source": [
        "<a href=\"https://colab.research.google.com/github/2003DEE/DEEPAK/blob/main/module%208%20project.ipynb\" target=\"_parent\"><img src=\"https://colab.research.google.com/assets/colab-badge.svg\" alt=\"Open In Colab\"/></a>"
      ]
    },
    {
      "cell_type": "markdown",
      "source": [
        "MODULE 8 PROJECT"
      ],
      "metadata": {
        "id": "TI0Rx9tAXRPY"
      }
    },
    {
      "cell_type": "code",
      "source": [
        "!wget 'https://github.com/MidhunaChandran/FMML-2021/blob/main/module_8_project/autohire/__main__.py'"
      ],
      "metadata": {
        "colab": {
          "base_uri": "https://localhost:8080/"
        },
        "id": "umejfJpmXbqu",
        "outputId": "959e8a2f-0fa7-4ea6-9bef-4dc851f57d8e"
      },
      "execution_count": 7,
      "outputs": [
        {
          "output_type": "stream",
          "name": "stdout",
          "text": [
            "--2023-05-27 18:05:11--  https://github.com/MidhunaChandran/FMML-2021/blob/main/module_8_project/autohire/__main__.py\n",
            "Resolving github.com (github.com)... 140.82.113.3\n",
            "Connecting to github.com (github.com)|140.82.113.3|:443... connected.\n",
            "HTTP request sent, awaiting response... 200 OK\n",
            "Length: unspecified [text/html]\n",
            "Saving to: ‘__main__.py’\n",
            "\n",
            "__main__.py             [ <=>                ] 162.40K  --.-KB/s    in 0.04s   \n",
            "\n",
            "2023-05-27 18:05:12 (3.98 MB/s) - ‘__main__.py’ saved [166298]\n",
            "\n"
          ]
        }
      ]
    },
    {
      "cell_type": "code",
      "source": [],
      "metadata": {
        "id": "C90DubvYYr7e"
      },
      "execution_count": null,
      "outputs": []
    }
  ]
}