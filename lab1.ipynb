{
  "nbformat": 4,
  "nbformat_minor": 0,
  "metadata": {
    "colab": {
      "provenance": [],
      "authorship_tag": "ABX9TyMGH28azDvtypscRsCnhSIL",
      "include_colab_link": true
    },
    "kernelspec": {
      "name": "python3",
      "display_name": "Python 3"
    },
    "language_info": {
      "name": "python"
    }
  },
  "cells": [
    {
      "cell_type": "markdown",
      "metadata": {
        "id": "view-in-github",
        "colab_type": "text"
      },
      "source": [
        "<a href=\"https://colab.research.google.com/github/2003DEE/DEEPAK/blob/main/lab1.ipynb\" target=\"_parent\"><img src=\"https://colab.research.google.com/assets/colab-badge.svg\" alt=\"Open In Colab\"/></a>"
      ]
    },
    {
      "cell_type": "code",
      "execution_count": 1,
      "metadata": {
        "id": "r7gAz_6TKyLZ"
      },
      "outputs": [],
      "source": [
        "import pandas as pd\n",
        "import numpy as np\n",
        "from sklearn.discriminant_analysis import LinearDiscriminantAnalysis\n",
        "from sklearn.datasets import make_classification"
      ]
    },
    {
      "cell_type": "code",
      "source": [
        "X,y=make_classification(n_classes=3,n_samples=1500,n_features=7,n_informative=3,n_redundant=2,random_state=0)"
      ],
      "metadata": {
        "id": "gkvFJTDALNSF"
      },
      "execution_count": 3,
      "outputs": []
    },
    {
      "cell_type": "code",
      "source": [
        "data=pd.DataFrame(X)\n",
        "data"
      ],
      "metadata": {
        "colab": {
          "base_uri": "https://localhost:8080/",
          "height": 424
        },
        "id": "3fekhGZALlv8",
        "outputId": "166d8dc2-5ffb-472d-b09f-28d11386bbe7"
      },
      "execution_count": 12,
      "outputs": [
        {
          "output_type": "execute_result",
          "data": {
            "text/plain": [
              "             0         1         2         3         4         5         6\n",
              "0     0.478856  0.957098 -0.553969 -1.312473  0.854885 -0.865033 -0.038444\n",
              "1     1.517150  1.391859 -0.143888  1.226480 -0.015539  0.916128  1.678634\n",
              "2     0.585389  0.882560 -1.282114 -1.454128  1.581893  0.474004 -1.154275\n",
              "3    -0.799808 -1.205871  0.560134  1.915068 -0.539475 -0.566881  1.448291\n",
              "4     0.652680  1.095522  2.129078 -1.153078  1.728356 -0.656786  0.086931\n",
              "...        ...       ...       ...       ...       ...       ...       ...\n",
              "1495 -0.868448 -1.053500 -0.262432  1.085938 -0.958061 -1.013338  1.016194\n",
              "1496 -0.374600 -0.212326 -0.314025  0.031950 -0.772245 -1.378946  0.815088\n",
              "1497 -0.858942 -0.836580 -0.207674 -0.451052 -0.290369 -0.504597 -0.746589\n",
              "1498 -2.298365 -2.911337  0.085179 -0.070110 -0.734179  1.352793 -3.181372\n",
              "1499 -2.000108 -2.356541 -0.736089  1.128761 -0.916906 -1.205563  0.213232\n",
              "\n",
              "[1500 rows x 7 columns]"
            ],
            "text/html": [
              "\n",
              "  <div id=\"df-728ceab5-da79-4dc1-acb6-b667ce2ff4d0\">\n",
              "    <div class=\"colab-df-container\">\n",
              "      <div>\n",
              "<style scoped>\n",
              "    .dataframe tbody tr th:only-of-type {\n",
              "        vertical-align: middle;\n",
              "    }\n",
              "\n",
              "    .dataframe tbody tr th {\n",
              "        vertical-align: top;\n",
              "    }\n",
              "\n",
              "    .dataframe thead th {\n",
              "        text-align: right;\n",
              "    }\n",
              "</style>\n",
              "<table border=\"1\" class=\"dataframe\">\n",
              "  <thead>\n",
              "    <tr style=\"text-align: right;\">\n",
              "      <th></th>\n",
              "      <th>0</th>\n",
              "      <th>1</th>\n",
              "      <th>2</th>\n",
              "      <th>3</th>\n",
              "      <th>4</th>\n",
              "      <th>5</th>\n",
              "      <th>6</th>\n",
              "    </tr>\n",
              "  </thead>\n",
              "  <tbody>\n",
              "    <tr>\n",
              "      <th>0</th>\n",
              "      <td>0.478856</td>\n",
              "      <td>0.957098</td>\n",
              "      <td>-0.553969</td>\n",
              "      <td>-1.312473</td>\n",
              "      <td>0.854885</td>\n",
              "      <td>-0.865033</td>\n",
              "      <td>-0.038444</td>\n",
              "    </tr>\n",
              "    <tr>\n",
              "      <th>1</th>\n",
              "      <td>1.517150</td>\n",
              "      <td>1.391859</td>\n",
              "      <td>-0.143888</td>\n",
              "      <td>1.226480</td>\n",
              "      <td>-0.015539</td>\n",
              "      <td>0.916128</td>\n",
              "      <td>1.678634</td>\n",
              "    </tr>\n",
              "    <tr>\n",
              "      <th>2</th>\n",
              "      <td>0.585389</td>\n",
              "      <td>0.882560</td>\n",
              "      <td>-1.282114</td>\n",
              "      <td>-1.454128</td>\n",
              "      <td>1.581893</td>\n",
              "      <td>0.474004</td>\n",
              "      <td>-1.154275</td>\n",
              "    </tr>\n",
              "    <tr>\n",
              "      <th>3</th>\n",
              "      <td>-0.799808</td>\n",
              "      <td>-1.205871</td>\n",
              "      <td>0.560134</td>\n",
              "      <td>1.915068</td>\n",
              "      <td>-0.539475</td>\n",
              "      <td>-0.566881</td>\n",
              "      <td>1.448291</td>\n",
              "    </tr>\n",
              "    <tr>\n",
              "      <th>4</th>\n",
              "      <td>0.652680</td>\n",
              "      <td>1.095522</td>\n",
              "      <td>2.129078</td>\n",
              "      <td>-1.153078</td>\n",
              "      <td>1.728356</td>\n",
              "      <td>-0.656786</td>\n",
              "      <td>0.086931</td>\n",
              "    </tr>\n",
              "    <tr>\n",
              "      <th>...</th>\n",
              "      <td>...</td>\n",
              "      <td>...</td>\n",
              "      <td>...</td>\n",
              "      <td>...</td>\n",
              "      <td>...</td>\n",
              "      <td>...</td>\n",
              "      <td>...</td>\n",
              "    </tr>\n",
              "    <tr>\n",
              "      <th>1495</th>\n",
              "      <td>-0.868448</td>\n",
              "      <td>-1.053500</td>\n",
              "      <td>-0.262432</td>\n",
              "      <td>1.085938</td>\n",
              "      <td>-0.958061</td>\n",
              "      <td>-1.013338</td>\n",
              "      <td>1.016194</td>\n",
              "    </tr>\n",
              "    <tr>\n",
              "      <th>1496</th>\n",
              "      <td>-0.374600</td>\n",
              "      <td>-0.212326</td>\n",
              "      <td>-0.314025</td>\n",
              "      <td>0.031950</td>\n",
              "      <td>-0.772245</td>\n",
              "      <td>-1.378946</td>\n",
              "      <td>0.815088</td>\n",
              "    </tr>\n",
              "    <tr>\n",
              "      <th>1497</th>\n",
              "      <td>-0.858942</td>\n",
              "      <td>-0.836580</td>\n",
              "      <td>-0.207674</td>\n",
              "      <td>-0.451052</td>\n",
              "      <td>-0.290369</td>\n",
              "      <td>-0.504597</td>\n",
              "      <td>-0.746589</td>\n",
              "    </tr>\n",
              "    <tr>\n",
              "      <th>1498</th>\n",
              "      <td>-2.298365</td>\n",
              "      <td>-2.911337</td>\n",
              "      <td>0.085179</td>\n",
              "      <td>-0.070110</td>\n",
              "      <td>-0.734179</td>\n",
              "      <td>1.352793</td>\n",
              "      <td>-3.181372</td>\n",
              "    </tr>\n",
              "    <tr>\n",
              "      <th>1499</th>\n",
              "      <td>-2.000108</td>\n",
              "      <td>-2.356541</td>\n",
              "      <td>-0.736089</td>\n",
              "      <td>1.128761</td>\n",
              "      <td>-0.916906</td>\n",
              "      <td>-1.205563</td>\n",
              "      <td>0.213232</td>\n",
              "    </tr>\n",
              "  </tbody>\n",
              "</table>\n",
              "<p>1500 rows × 7 columns</p>\n",
              "</div>\n",
              "      <button class=\"colab-df-convert\" onclick=\"convertToInteractive('df-728ceab5-da79-4dc1-acb6-b667ce2ff4d0')\"\n",
              "              title=\"Convert this dataframe to an interactive table.\"\n",
              "              style=\"display:none;\">\n",
              "        \n",
              "  <svg xmlns=\"http://www.w3.org/2000/svg\" height=\"24px\"viewBox=\"0 0 24 24\"\n",
              "       width=\"24px\">\n",
              "    <path d=\"M0 0h24v24H0V0z\" fill=\"none\"/>\n",
              "    <path d=\"M18.56 5.44l.94 2.06.94-2.06 2.06-.94-2.06-.94-.94-2.06-.94 2.06-2.06.94zm-11 1L8.5 8.5l.94-2.06 2.06-.94-2.06-.94L8.5 2.5l-.94 2.06-2.06.94zm10 10l.94 2.06.94-2.06 2.06-.94-2.06-.94-.94-2.06-.94 2.06-2.06.94z\"/><path d=\"M17.41 7.96l-1.37-1.37c-.4-.4-.92-.59-1.43-.59-.52 0-1.04.2-1.43.59L10.3 9.45l-7.72 7.72c-.78.78-.78 2.05 0 2.83L4 21.41c.39.39.9.59 1.41.59.51 0 1.02-.2 1.41-.59l7.78-7.78 2.81-2.81c.8-.78.8-2.07 0-2.86zM5.41 20L4 18.59l7.72-7.72 1.47 1.35L5.41 20z\"/>\n",
              "  </svg>\n",
              "      </button>\n",
              "      \n",
              "  <style>\n",
              "    .colab-df-container {\n",
              "      display:flex;\n",
              "      flex-wrap:wrap;\n",
              "      gap: 12px;\n",
              "    }\n",
              "\n",
              "    .colab-df-convert {\n",
              "      background-color: #E8F0FE;\n",
              "      border: none;\n",
              "      border-radius: 50%;\n",
              "      cursor: pointer;\n",
              "      display: none;\n",
              "      fill: #1967D2;\n",
              "      height: 32px;\n",
              "      padding: 0 0 0 0;\n",
              "      width: 32px;\n",
              "    }\n",
              "\n",
              "    .colab-df-convert:hover {\n",
              "      background-color: #E2EBFA;\n",
              "      box-shadow: 0px 1px 2px rgba(60, 64, 67, 0.3), 0px 1px 3px 1px rgba(60, 64, 67, 0.15);\n",
              "      fill: #174EA6;\n",
              "    }\n",
              "\n",
              "    [theme=dark] .colab-df-convert {\n",
              "      background-color: #3B4455;\n",
              "      fill: #D2E3FC;\n",
              "    }\n",
              "\n",
              "    [theme=dark] .colab-df-convert:hover {\n",
              "      background-color: #434B5C;\n",
              "      box-shadow: 0px 1px 3px 1px rgba(0, 0, 0, 0.15);\n",
              "      filter: drop-shadow(0px 1px 2px rgba(0, 0, 0, 0.3));\n",
              "      fill: #FFFFFF;\n",
              "    }\n",
              "  </style>\n",
              "\n",
              "      <script>\n",
              "        const buttonEl =\n",
              "          document.querySelector('#df-728ceab5-da79-4dc1-acb6-b667ce2ff4d0 button.colab-df-convert');\n",
              "        buttonEl.style.display =\n",
              "          google.colab.kernel.accessAllowed ? 'block' : 'none';\n",
              "\n",
              "        async function convertToInteractive(key) {\n",
              "          const element = document.querySelector('#df-728ceab5-da79-4dc1-acb6-b667ce2ff4d0');\n",
              "          const dataTable =\n",
              "            await google.colab.kernel.invokeFunction('convertToInteractive',\n",
              "                                                     [key], {});\n",
              "          if (!dataTable) return;\n",
              "\n",
              "          const docLinkHtml = 'Like what you see? Visit the ' +\n",
              "            '<a target=\"_blank\" href=https://colab.research.google.com/notebooks/data_table.ipynb>data table notebook</a>'\n",
              "            + ' to learn more about interactive tables.';\n",
              "          element.innerHTML = '';\n",
              "          dataTable['output_type'] = 'display_data';\n",
              "          await google.colab.output.renderOutput(dataTable, element);\n",
              "          const docLink = document.createElement('div');\n",
              "          docLink.innerHTML = docLinkHtml;\n",
              "          element.appendChild(docLink);\n",
              "        }\n",
              "      </script>\n",
              "    </div>\n",
              "  </div>\n",
              "  "
            ]
          },
          "metadata": {},
          "execution_count": 12
        }
      ]
    },
    {
      "cell_type": "code",
      "source": [
        "data['target']=y\n",
        "X=np.array(data.drop(['target'],axis=1))"
      ],
      "metadata": {
        "id": "fkGh-4HXL_rL"
      },
      "execution_count": 10,
      "outputs": []
    },
    {
      "cell_type": "code",
      "source": [
        "lr=LinearDiscriminantAnalysis(n_components=2)\n",
        "x=lr.fit_transform(X,y)"
      ],
      "metadata": {
        "id": "0JlHRhHMNJN0"
      },
      "execution_count": 15,
      "outputs": []
    },
    {
      "cell_type": "code",
      "source": [
        "import matplotlib.pyplot as plt\n",
        "plt.figure(figsize=(12,6))\n",
        "plt.violinplot(x)"
      ],
      "metadata": {
        "colab": {
          "base_uri": "https://localhost:8080/",
          "height": 463
        },
        "id": "BJ2QtiinPDJU",
        "outputId": "a9f0cf47-11ed-49d7-d382-c76a58b8b014"
      },
      "execution_count": 35,
      "outputs": [
        {
          "output_type": "execute_result",
          "data": {
            "text/plain": [
              "{'bodies': [<matplotlib.collections.PolyCollection at 0x7f221d93aa60>,\n",
              "  <matplotlib.collections.PolyCollection at 0x7f221d93ad00>],\n",
              " 'cmaxes': <matplotlib.collections.LineCollection at 0x7f221d93a8b0>,\n",
              " 'cmins': <matplotlib.collections.LineCollection at 0x7f221d8cc1c0>,\n",
              " 'cbars': <matplotlib.collections.LineCollection at 0x7f221d8cc4c0>}"
            ]
          },
          "metadata": {},
          "execution_count": 35
        },
        {
          "output_type": "display_data",
          "data": {
            "text/plain": [
              "<Figure size 864x432 with 1 Axes>"
            ],
            "image/png": "[encoded data removed]"
          },
          "metadata": {
            "needs_background": "light"
          }
        }
      ]
    },
    {
      "cell_type": "code",
      "source": [
        "plt.plot(x)"
      ],
      "metadata": {
        "colab": {
          "base_uri": "https://localhost:8080/",
          "height": 301
        },
        "id": "fxNJVvXeRQ6C",
        "outputId": "3a83072a-3d65-4852-ec6e-7e276833dbe5"
      },
      "execution_count": 36,
      "outputs": [
        {
          "output_type": "execute_result",
          "data": {
            "text/plain": [
              "[<matplotlib.lines.Line2D at 0x7f221d89de80>,\n",
              " <matplotlib.lines.Line2D at 0x7f221d89dfd0>]"
            ]
          },
          "metadata": {},
          "execution_count": 36
        },
        {
          "output_type": "display_data",
          "data": {
            "text/plain": [
              "<Figure size 432x288 with 1 Axes>"
            ],
            "image/png": "[encoded data removed]"
          },
          "metadata": {
            "needs_background": "light"
          }
        }
      ]
    }
  ]
}